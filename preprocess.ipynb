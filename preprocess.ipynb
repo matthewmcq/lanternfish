{
 "cells": [
  {
   "cell_type": "code",
   "execution_count": 10,
   "metadata": {},
   "outputs": [
    {
     "name": "stdout",
     "output_type": "stream",
     "text": [
      "['song_bass1_drums1_piano1', '.DS_Store', 'song_piano1_vocals1', 'song_bass1_guitar1_piano1', 'song_bass1_drums1', 'song_drums1_guitar1_piano1', 'song_bass1_drums1_guitar1_vocals1', 'song_drums1_piano1']\n",
      "['song_bass1_drums1_piano1', '.DS_Store', 'song_piano1_vocals1', 'song_bass1_guitar1_piano1', 'song_bass1_drums1', 'song_drums1_guitar1_piano1', 'song_bass1_drums1_guitar1_vocals1', 'song_drums1_piano1']\n",
      "song_bass1_drums1_piano1\n",
      "song_piano1_vocals1\n",
      "song_bass1_guitar1_piano1\n",
      "song_bass1_drums1\n",
      "song_drums1_guitar1_piano1\n",
      "song_bass1_drums1_guitar1_vocals1\n",
      "song_drums1_piano1\n"
     ]
    }
   ],
   "source": [
    "import numpy as np\n",
    "import pywt\n",
    "import librosa \n",
    "import os\n",
    "from data import WaveData, SR\n",
    "import matplotlib.pyplot as plt\n",
    "import tqdm\n",
    "import soundfile as sf\n",
    "\n",
    "# Import a test dataset\n",
    "\n",
    "DATA_PATH = 'data/scott_one_song_moises/songs/'\n",
    "PERM_FOLDERS = os.listdir(DATA_PATH)\n",
    "print(PERM_FOLDERS)\n",
    "\n",
    "def get_perms(data_path=DATA_PATH, perm_folders=PERM_FOLDERS, sr=SR):\n",
    "    perms = []\n",
    "    data = {}\n",
    "    print(perm_folders)\n",
    "    for folder in perm_folders:\n",
    "        if folder == '.DS_Store':\n",
    "            continue\n",
    "        print(folder)\n",
    "        # called folder/Test -> read the Test part with librosa\n",
    "        if 'Test' in os.listdir(data_path + folder):\n",
    "            \n",
    "            \n",
    "            for song in os.listdir(data_path + folder + '/Test'):\n",
    "            \n",
    "                perms.append(song)\n",
    "\n",
    "                if song == '.DS_Store':\n",
    "                    continue\n",
    "                \n",
    "                waveform, sr = librosa.load(data_path + folder + '/Test/' + song, mono=False, sr=sr)\n",
    "                # print(waveform.shape)\n",
    "                waveform = np.transpose(waveform)\n",
    "                # print(waveform.shape)\n",
    "                data[song] = WaveData(song, waveform, None)\n",
    "            \n",
    "    return perms, data\n",
    "\n",
    "perms, TRAIN_DATA = get_perms()\n"
   ]
  },
  {
   "cell_type": "code",
   "execution_count": 11,
   "metadata": {},
   "outputs": [],
   "source": [
    "\n",
    "# Get song length analytics\n",
    "\n",
    "def length_analysis(perms=perms, data=TRAIN_DATA):\n",
    "    lengths = []\n",
    "    for song in perms:\n",
    "        try:\n",
    "            lengths.append(data[song].waveform.shape[0])\n",
    "        except Exception as e:\n",
    "            print(e)\n",
    "            print(song)\n",
    "    return lengths\n",
    "\n",
    "def print_length_analytics(lengths):\n",
    "    print('Max length:', max(lengths))\n",
    "    print('Min length:', min(lengths))\n",
    "    print('Mean length:', np.mean(lengths))\n",
    "    print('Median length:', np.median(lengths))\n",
    "    # graph of distribution\n",
    "    plt.hist(lengths, bins=20)\n",
    "    plt.show()\n",
    "\n",
    "lengths = length_analysis()\n",
    "# print_length_analytics(lengths)"
   ]
  },
  {
   "cell_type": "code",
   "execution_count": null,
   "metadata": {},
   "outputs": [],
   "source": [
    "# TODO: Remove songs above a certain length\n"
   ]
  },
  {
   "cell_type": "code",
   "execution_count": 22,
   "metadata": {},
   "outputs": [
    {
     "name": "stderr",
     "output_type": "stream",
     "text": [
      "1it [00:00,  5.16it/s]"
     ]
    },
    {
     "name": "stdout",
     "output_type": "stream",
     "text": [
      "len dwt = 2\n",
      "(2, 9154482, 1)\n"
     ]
    },
    {
     "name": "stderr",
     "output_type": "stream",
     "text": [
      "2it [00:00,  4.81it/s]"
     ]
    },
    {
     "name": "stdout",
     "output_type": "stream",
     "text": [
      "len dwt = 2\n",
      "(2, 9154482, 1)\n"
     ]
    },
    {
     "name": "stderr",
     "output_type": "stream",
     "text": [
      "3it [00:00,  4.75it/s]"
     ]
    },
    {
     "name": "stdout",
     "output_type": "stream",
     "text": [
      "len dwt = 2\n",
      "(2, 9154482, 1)\n"
     ]
    },
    {
     "name": "stderr",
     "output_type": "stream",
     "text": [
      "4it [00:00,  4.75it/s]"
     ]
    },
    {
     "name": "stdout",
     "output_type": "stream",
     "text": [
      "len dwt = 2\n",
      "(2, 9154482, 1)\n"
     ]
    },
    {
     "name": "stderr",
     "output_type": "stream",
     "text": [
      "5it [00:01,  4.78it/s]"
     ]
    },
    {
     "name": "stdout",
     "output_type": "stream",
     "text": [
      "len dwt = 2\n",
      "(2, 9154482, 1)\n"
     ]
    },
    {
     "name": "stderr",
     "output_type": "stream",
     "text": [
      "6it [00:01,  4.77it/s]"
     ]
    },
    {
     "name": "stdout",
     "output_type": "stream",
     "text": [
      "len dwt = 2\n",
      "(2, 9154482, 1)\n"
     ]
    },
    {
     "name": "stderr",
     "output_type": "stream",
     "text": [
      "8it [00:01,  5.11it/s]"
     ]
    },
    {
     "name": "stdout",
     "output_type": "stream",
     "text": [
      "len dwt = 2\n",
      "(2, 9154482, 1)\n",
      "len dwt = 2\n",
      "(2, 9154482, 1)\n"
     ]
    },
    {
     "name": "stderr",
     "output_type": "stream",
     "text": [
      "10it [00:01,  5.75it/s]"
     ]
    },
    {
     "name": "stdout",
     "output_type": "stream",
     "text": [
      "len dwt = 2\n",
      "(2, 9154482, 1)\n",
      "len dwt = 2\n",
      "(2, 9154482, 1)\n"
     ]
    },
    {
     "name": "stderr",
     "output_type": "stream",
     "text": [
      "12it [00:02,  6.09it/s]"
     ]
    },
    {
     "name": "stdout",
     "output_type": "stream",
     "text": [
      "len dwt = 2\n",
      "(2, 9154482, 1)\n",
      "len dwt = 2\n",
      "(2, 9154482, 1)\n"
     ]
    },
    {
     "name": "stderr",
     "output_type": "stream",
     "text": [
      "13it [00:02,  5.40it/s]\n"
     ]
    },
    {
     "name": "stdout",
     "output_type": "stream",
     "text": [
      "len dwt = 2\n",
      "(2, 9154482, 1)\n",
      "(2, 9154482, 1)\n",
      "(2, 9154482, 1)\n",
      "(2, 9154482, 1)\n",
      "(2, 9154482, 1)\n",
      "(2, 9154482, 1)\n",
      "(2, 9154482, 1)\n",
      "(2, 9154482, 1)\n",
      "(2, 9154482, 1)\n",
      "(2, 9154482, 1)\n",
      "(2, 9154482, 1)\n",
      "(2, 9154482, 1)\n",
      "(2, 9154482, 1)\n",
      "(2, 9154482, 1)\n"
     ]
    }
   ],
   "source": [
    "\n",
    "# Get the wavelet transform of the songs \n",
    "\n",
    "def get_wavelet_transform(data=TRAIN_DATA):\n",
    "    for i, song in tqdm.tqdm(enumerate(perms)):\n",
    "        dwt = pywt.wavedec(data[song].waveform, 'db1')\n",
    "        print(f\"len dwt = {len(dwt)}\")\n",
    "        # convert to numpy array\n",
    "        npdwt = np.array(dwt)\n",
    "        \n",
    "        print(npdwt.shape)\n",
    "        data[song].dwt = dwt\n",
    "        data[song].npdwt = npdwt\n",
    "    return data\n",
    "\n",
    "TRAIN_DATA = get_wavelet_transform()\n",
    "# Pad up to max dims -- print dims\n",
    "def pad_dwt(data=TRAIN_DATA):\n",
    "    max_shape = None\n",
    "    for song in perms:\n",
    "        if max_shape is None:\n",
    "            max_shape = data[song].npdwt.shape\n",
    "        else:\n",
    "            max_shape = np.maximum(max_shape, data[song].npdwt.shape)\n",
    "\n",
    "    new_dwt = np.zeros_like(max_shape)\n",
    "    for song in perms:\n",
    "        # pad the dwt\n",
    "        # print(new_wavedata.dwt.shape)\n",
    "        pad_width = [(0, max_shape[0] - data[song].npdwt.shape[0])]\n",
    "        for i in range(1, len(max_shape)):\n",
    "            pad_width.append((0, max_shape[i] - data[song].npdwt.shape[i]))\n",
    "        new_dwt = np.pad(data[song].npdwt, pad_width, mode='constant', constant_values=0)\n",
    "        data[song].npdwt = new_dwt\n",
    "        print(new_dwt.shape)\n",
    "    return data\n",
    "\n",
    "TRAIN_DATA = pad_dwt()\n",
    "# save the numpy file to song folder"
   ]
  },
  {
   "cell_type": "code",
   "execution_count": 30,
   "metadata": {},
   "outputs": [
    {
     "name": "stderr",
     "output_type": "stream",
     "text": [
      "13it [00:01, 10.95it/s]"
     ]
    },
    {
     "name": "stdout",
     "output_type": "stream",
     "text": [
      "(9154482, 2)\n"
     ]
    },
    {
     "name": "stderr",
     "output_type": "stream",
     "text": [
      "\n"
     ]
    }
   ],
   "source": [
    "# try idwt to see if it works\n",
    "def idwt(data=TRAIN_DATA):\n",
    "    idwts = []\n",
    "    for i, song in tqdm.tqdm(enumerate(perms)):\n",
    "        # convert to  (list, tuple) from numpy array\n",
    "        idwt = pywt.waverec(data[song].dwt, 'db1')\n",
    "        idwts.append(idwt)\n",
    "    return idwts\n",
    "\n",
    "idwts = idwt()\n",
    "print(idwts[0].shape)\n",
    "\n",
    "# save the idwt to a file\\\n",
    "import soundfile as sf\n",
    "def save_idwt(data=TRAIN_DATA, idwts=idwts):\n",
    "    song = perms[0]\n",
    "    sf.write('idwt.wav', idwts[0], SR)\n",
    "\n",
    "save_idwt()\n"
   ]
  }
 ],
 "metadata": {
  "kernelspec": {
   "display_name": "base",
   "language": "python",
   "name": "python3"
  },
  "language_info": {
   "codemirror_mode": {
    "name": "ipython",
    "version": 3
   },
   "file_extension": ".py",
   "mimetype": "text/x-python",
   "name": "python",
   "nbconvert_exporter": "python",
   "pygments_lexer": "ipython3",
   "version": "3.11.7"
  }
 },
 "nbformat": 4,
 "nbformat_minor": 2
}
