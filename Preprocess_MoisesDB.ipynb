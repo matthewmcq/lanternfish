{
  "cells": [
    {
      "cell_type": "code",
      "execution_count": 28,
      "metadata": {
        "id": "T-DLpA_hIe0W"
      },
      "outputs": [],
      "source": [
        "import os\n",
        "import shutil\n",
        "import itertools\n",
        "import numpy as np\n",
        "import librosa\n",
        "import soundfile as sf\n",
        "import json"
      ]
    },
    {
      "cell_type": "code",
      "execution_count": 110,
      "metadata": {
        "colab": {
          "base_uri": "https://localhost:8080/"
        },
        "id": "WS0jIz89Ij75",
        "outputId": "d35dc284-4695-4317-813f-c6d13dfc542d"
      },
      "outputs": [
        {
          "output_type": "stream",
          "name": "stdout",
          "text": [
            "Mounted at /content/drive\n"
          ]
        }
      ],
      "source": [
        "from google.colab import drive\n",
        "drive.mount('/content/drive', force_remount=True)"
      ]
    },
    {
      "cell_type": "code",
      "execution_count": 52,
      "metadata": {
        "id": "r-LdC8fhItza"
      },
      "outputs": [],
      "source": [
        "metadata_path = \"/content/drive/MyDrive/Preprocess\"\n",
        "songs_path = \"/content/drive/MyDrive/lanternfish/moisesDB_raw\""
      ]
    },
    {
      "cell_type": "code",
      "execution_count": 111,
      "metadata": {
        "id": "ZB7B5V5nIw4S"
      },
      "outputs": [],
      "source": [
        "SAMPLE_RATE = 44100\n",
        "\n",
        "def parse_file(metadata_path, songs_path):\n",
        "    songs_folders = os.listdir(metadata_path)\n",
        "    for song_folder_name in songs_folders:\n",
        "        song_folder = os.path.join(metadata_path, song_folder_name)\n",
        "        if not os.path.isdir(song_folder):\n",
        "            continue\n",
        "\n",
        "        # Read data.json file to get information about the stems\n",
        "        with open(os.path.join(song_folder, 'data.json')) as f:\n",
        "            data = json.load(f)\n",
        "        song_name = data['song']\n",
        "        stems_info = data['stems']\n",
        "\n",
        "        # Create song folder in the destination path\n",
        "        dest_song_folder = os.path.join(songs_path, song_name)\n",
        "        os.makedirs(dest_song_folder, exist_ok=True)\n",
        "\n",
        "        # Copy metadata file into the song folder\n",
        "        shutil.copy(os.path.join(song_folder, 'data.json'), os.path.join(dest_song_folder, 'data.json'))\n",
        "\n",
        "        # Copy stems into respective stem folders\n",
        "        for i, stem_info in enumerate(stems_info, start=1):\n",
        "            stem_name = stem_info['stemName']\n",
        "            stem_folder = os.path.join(song_folder, stem_name)\n",
        "\n",
        "            # Create stem folder in the destination path\n",
        "            dest_stem_folder = os.path.join(dest_song_folder, stem_name)\n",
        "            os.makedirs(dest_stem_folder, exist_ok=True)\n",
        "\n",
        "            # Copy stem files and rename them\n",
        "            for j, track in enumerate(stem_info['tracks'], start=1):\n",
        "                stem_file = os.path.join(stem_folder, track['id'] + '.wav')\n",
        "                if os.path.exists(stem_file):\n",
        "                    new_stem_file = os.path.join(dest_stem_folder, f\"{stem_name}{j}.wav\")\n",
        "                    shutil.copy(stem_file, new_stem_file)\n",
        "\n",
        "        # Generate permutations\n",
        "        generate_perms(dest_song_folder, stems_info)\n"
      ]
    },
    {
      "cell_type": "code",
      "execution_count": 112,
      "metadata": {
        "id": "NcQR6uYGI2WQ"
      },
      "outputs": [],
      "source": [
        "def generate_perms(dest_song_folder, stems_info):\n",
        "    all_stem_files = []\n",
        "    for stem_info in stems_info:\n",
        "        stem_name = stem_info['stemName']\n",
        "        stem_folder = os.path.join(dest_song_folder, stem_name)\n",
        "        stem_files = [os.path.join(stem_folder, f) for f in os.listdir(stem_folder)]\n",
        "        all_stem_files.extend(stem_files)\n",
        "\n",
        "    # Create \"songs\" folder\n",
        "    songs_folder = os.path.join(dest_song_folder, 'songs')\n",
        "    os.makedirs(songs_folder, exist_ok=True)\n",
        "\n",
        "    # Generate permutations of all stem files\n",
        "    for r in range(2, len(all_stem_files) + 1):\n",
        "        perms = itertools.combinations(all_stem_files, r)\n",
        "        for i, perm in enumerate(perms, start=1):\n",
        "            perm_name = \"song_\" + \"_\".join([f\"{stem.split('/')[-1].split('.')[0]}\" for stem in perm])\n",
        "            perm_folder = os.path.join(songs_folder, perm_name)\n",
        "            os.makedirs(perm_folder, exist_ok=True)\n",
        "\n",
        "            # Create Train folder for permutation\n",
        "            train_folder = os.path.join(perm_folder, 'Train')\n",
        "            os.makedirs(train_folder, exist_ok=True)\n",
        "\n",
        "            # Create Test folder for permutation\n",
        "            test_folder = os.path.join(perm_folder, 'Test')\n",
        "            os.makedirs(test_folder, exist_ok=True)\n",
        "\n",
        "            stems_arr = []\n",
        "            # Copy and sum stem files\n",
        "            for j, stem_path in enumerate(perm, start=1):\n",
        "                stem_audio, _ = librosa.load(stem_path, mono=False, sr=SAMPLE_RATE)\n",
        "                stems_arr.append(stem_audio)\n",
        "                # Copy stem files to Test folder with new name\n",
        "                new_stem_file = os.path.join(test_folder, f\"{stem_path.split('/')[-1]}\")\n",
        "                shutil.copy(stem_path, new_stem_file)\n",
        "\n",
        "            perm_sum = np.sum(stems_arr, axis=0)\n",
        "            # Save permutation audio file to Train folder with new name\n",
        "            perm_file = os.path.join(train_folder, f\"{perm_name}.wav\")\n",
        "            sf.write(perm_file, perm_sum.T, SAMPLE_RATE)\n",
        ""
      ]
    },
    {
      "cell_type": "code",
      "execution_count": 113,
      "metadata": {
        "colab": {
          "base_uri": "https://localhost:8080/",
          "height": 311
        },
        "id": "Ij65-tSdqGLo",
        "outputId": "698f4b20-4dd0-4b71-b9e5-9bc7f8104efc"
      },
      "outputs": [
        {
          "output_type": "error",
          "ename": "KeyboardInterrupt",
          "evalue": "",
          "traceback": [
            "\u001b[0;31m---------------------------------------------------------------------------\u001b[0m",
            "\u001b[0;31mKeyboardInterrupt\u001b[0m                         Traceback (most recent call last)",
            "\u001b[0;32m<ipython-input-113-ef7d4158751d>\u001b[0m in \u001b[0;36m<cell line: 1>\u001b[0;34m()\u001b[0m\n\u001b[0;32m----> 1\u001b[0;31m \u001b[0mparse_file\u001b[0m\u001b[0;34m(\u001b[0m\u001b[0;34m\"/content/drive/MyDrive/Preprocess\"\u001b[0m\u001b[0;34m,\u001b[0m \u001b[0;34m\"/content/drive/MyDrive/lanternfish/moisesDB_raw\"\u001b[0m\u001b[0;34m)\u001b[0m\u001b[0;34m\u001b[0m\u001b[0;34m\u001b[0m\u001b[0m\n\u001b[0m\u001b[1;32m      2\u001b[0m \u001b[0;31m#generate_perms(\"/content/drive/MyDrive/lanternfish/moisesDB_raw\")\u001b[0m\u001b[0;34m\u001b[0m\u001b[0;34m\u001b[0m\u001b[0m\n",
            "\u001b[0;32m<ipython-input-111-764b7e0b857d>\u001b[0m in \u001b[0;36mparse_file\u001b[0;34m(metadata_path, songs_path)\u001b[0m\n\u001b[1;32m     38\u001b[0m \u001b[0;34m\u001b[0m\u001b[0m\n\u001b[1;32m     39\u001b[0m         \u001b[0;31m# Generate permutations\u001b[0m\u001b[0;34m\u001b[0m\u001b[0;34m\u001b[0m\u001b[0m\n\u001b[0;32m---> 40\u001b[0;31m         \u001b[0mgenerate_perms\u001b[0m\u001b[0;34m(\u001b[0m\u001b[0mdest_song_folder\u001b[0m\u001b[0;34m,\u001b[0m \u001b[0mstems_info\u001b[0m\u001b[0;34m)\u001b[0m\u001b[0;34m\u001b[0m\u001b[0;34m\u001b[0m\u001b[0m\n\u001b[0m",
            "\u001b[0;32m<ipython-input-112-daf65abfbd23>\u001b[0m in \u001b[0;36mgenerate_perms\u001b[0;34m(dest_song_folder, stems_info)\u001b[0m\n\u001b[1;32m     39\u001b[0m             \u001b[0;31m# Save permutation audio file to Train folder with new name\u001b[0m\u001b[0;34m\u001b[0m\u001b[0;34m\u001b[0m\u001b[0m\n\u001b[1;32m     40\u001b[0m             \u001b[0mperm_file\u001b[0m \u001b[0;34m=\u001b[0m \u001b[0mos\u001b[0m\u001b[0;34m.\u001b[0m\u001b[0mpath\u001b[0m\u001b[0;34m.\u001b[0m\u001b[0mjoin\u001b[0m\u001b[0;34m(\u001b[0m\u001b[0mtrain_folder\u001b[0m\u001b[0;34m,\u001b[0m \u001b[0;34mf\"{perm_name}.wav\"\u001b[0m\u001b[0;34m)\u001b[0m\u001b[0;34m\u001b[0m\u001b[0;34m\u001b[0m\u001b[0m\n\u001b[0;32m---> 41\u001b[0;31m             \u001b[0msf\u001b[0m\u001b[0;34m.\u001b[0m\u001b[0mwrite\u001b[0m\u001b[0;34m(\u001b[0m\u001b[0mperm_file\u001b[0m\u001b[0;34m,\u001b[0m \u001b[0mperm_sum\u001b[0m\u001b[0;34m.\u001b[0m\u001b[0mT\u001b[0m\u001b[0;34m,\u001b[0m \u001b[0mSAMPLE_RATE\u001b[0m\u001b[0;34m)\u001b[0m\u001b[0;34m\u001b[0m\u001b[0;34m\u001b[0m\u001b[0m\n\u001b[0m\u001b[1;32m     42\u001b[0m \u001b[0;34m\u001b[0m\u001b[0m\n",
            "\u001b[0;32m/usr/local/lib/python3.10/dist-packages/soundfile.py\u001b[0m in \u001b[0;36mwrite\u001b[0;34m(file, data, samplerate, subtype, endian, format, closefd)\u001b[0m\n\u001b[1;32m    343\u001b[0m     with SoundFile(file, 'w', samplerate, channels,\n\u001b[1;32m    344\u001b[0m                    subtype, endian, format, closefd) as f:\n\u001b[0;32m--> 345\u001b[0;31m         \u001b[0mf\u001b[0m\u001b[0;34m.\u001b[0m\u001b[0mwrite\u001b[0m\u001b[0;34m(\u001b[0m\u001b[0mdata\u001b[0m\u001b[0;34m)\u001b[0m\u001b[0;34m\u001b[0m\u001b[0;34m\u001b[0m\u001b[0m\n\u001b[0m\u001b[1;32m    346\u001b[0m \u001b[0;34m\u001b[0m\u001b[0m\n\u001b[1;32m    347\u001b[0m \u001b[0;34m\u001b[0m\u001b[0m\n",
            "\u001b[0;32m/usr/local/lib/python3.10/dist-packages/soundfile.py\u001b[0m in \u001b[0;36mwrite\u001b[0;34m(self, data)\u001b[0m\n\u001b[1;32m   1017\u001b[0m         \u001b[0;32mimport\u001b[0m \u001b[0mnumpy\u001b[0m \u001b[0;32mas\u001b[0m \u001b[0mnp\u001b[0m\u001b[0;34m\u001b[0m\u001b[0;34m\u001b[0m\u001b[0m\n\u001b[1;32m   1018\u001b[0m         \u001b[0;31m# no copy is made if data has already the correct memory layout:\u001b[0m\u001b[0;34m\u001b[0m\u001b[0;34m\u001b[0m\u001b[0m\n\u001b[0;32m-> 1019\u001b[0;31m         \u001b[0mdata\u001b[0m \u001b[0;34m=\u001b[0m \u001b[0mnp\u001b[0m\u001b[0;34m.\u001b[0m\u001b[0mascontiguousarray\u001b[0m\u001b[0;34m(\u001b[0m\u001b[0mdata\u001b[0m\u001b[0;34m)\u001b[0m\u001b[0;34m\u001b[0m\u001b[0;34m\u001b[0m\u001b[0m\n\u001b[0m\u001b[1;32m   1020\u001b[0m         \u001b[0mwritten\u001b[0m \u001b[0;34m=\u001b[0m \u001b[0mself\u001b[0m\u001b[0;34m.\u001b[0m\u001b[0m_array_io\u001b[0m\u001b[0;34m(\u001b[0m\u001b[0;34m'write'\u001b[0m\u001b[0;34m,\u001b[0m \u001b[0mdata\u001b[0m\u001b[0;34m,\u001b[0m \u001b[0mlen\u001b[0m\u001b[0;34m(\u001b[0m\u001b[0mdata\u001b[0m\u001b[0;34m)\u001b[0m\u001b[0;34m)\u001b[0m\u001b[0;34m\u001b[0m\u001b[0;34m\u001b[0m\u001b[0m\n\u001b[1;32m   1021\u001b[0m         \u001b[0;32massert\u001b[0m \u001b[0mwritten\u001b[0m \u001b[0;34m==\u001b[0m \u001b[0mlen\u001b[0m\u001b[0;34m(\u001b[0m\u001b[0mdata\u001b[0m\u001b[0;34m)\u001b[0m\u001b[0;34m\u001b[0m\u001b[0;34m\u001b[0m\u001b[0m\n",
            "\u001b[0;31mKeyboardInterrupt\u001b[0m: "
          ]
        }
      ],
      "source": [
        "parse_file(\"/content/drive/MyDrive/Preprocess\", \"/content/drive/MyDrive/lanternfish/moisesDB_raw\")\n",
        "#generate_perms(\"/content/drive/MyDrive/lanternfish/moisesDB_raw\")"
      ]
    }
  ],
  "metadata": {
    "colab": {
      "provenance": []
    },
    "kernelspec": {
      "display_name": "Python 3",
      "name": "python3"
    },
    "language_info": {
      "name": "python"
    }
  },
  "nbformat": 4,
  "nbformat_minor": 0
}