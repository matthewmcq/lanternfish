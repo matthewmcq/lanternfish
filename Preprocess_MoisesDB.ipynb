{
  "cells": [
    {
      "cell_type": "code",
      "execution_count": null,
      "metadata": {
        "id": "T-DLpA_hIe0W"
      },
      "outputs": [],
      "source": [
        "import os\n",
        "import shutil\n",
        "import itertools\n",
        "import numpy as np\n",
        "import librosa\n",
        "import soundfile as sf\n",
        "import json"
      ]
    },
    {
      "cell_type": "code",
      "execution_count": null,
      "metadata": {
        "colab": {
          "base_uri": "https://localhost:8080/"
        },
        "id": "WS0jIz89Ij75",
        "outputId": "2ccf0f6c-dbe5-4c6f-8a33-35601ff17541"
      },
      "outputs": [
        {
          "output_type": "stream",
          "name": "stdout",
          "text": [
            "Mounted at /content/drive\n"
          ]
        }
      ],
      "source": [
        "from google.colab import drive\n",
        "drive.mount('/content/drive', force_remount=True)"
      ]
    },
    {
      "cell_type": "code",
      "execution_count": null,
      "metadata": {
        "id": "r-LdC8fhItza"
      },
      "outputs": [],
      "source": [
        "metadata_path = \"/content/drive/MyDrive/Preprocess\"\n",
        "songs_path = \"/content/drive/MyDrive/lanternfish/moisesDB_raw\""
      ]
    },
    {
      "cell_type": "code",
      "execution_count": null,
      "metadata": {
        "colab": {
          "base_uri": "https://localhost:8080/"
        },
        "id": "1TiarRiFLYDG",
        "outputId": "b042fbab-a339-4273-85f2-6588000fc534"
      },
      "outputs": [
        {
          "output_type": "stream",
          "name": "stdout",
          "text": [
            "TEST folder created successfully.\n"
          ]
        }
      ],
      "source": [
        "moisesDB_raw_path = \"/content/drive/MyDrive/lanternfish/moisesDB_raw\"\n",
        "\n",
        "# Define the path for the TEST folder\n",
        "test_folder_path = os.path.join(moisesDB_raw_path, \"TEST 1\")\n",
        "\n",
        "# Create the TEST folder\n",
        "os.makedirs(test_folder_path, exist_ok=True)\n",
        "\n",
        "# Check if the folder was created successfully\n",
        "if os.path.exists(test_folder_path):\n",
        "    print(\"TEST folder created successfully.\")\n",
        "else:\n",
        "    print(\"Failed to create TEST folder.\")"
      ]
    },
    {
      "cell_type": "code",
      "execution_count": null,
      "metadata": {
        "id": "ZB7B5V5nIw4S"
      },
      "outputs": [],
      "source": [
        "SAMPLE_RATE = 44100\n",
        "\n",
        "def parse_file(metadata_path, songs_path):\n",
        "    songs_folders = os.listdir(metadata_path)\n",
        "\n",
        "    for song_folder_name in songs_folders:\n",
        "        song_folder = os.path.join(metadata_path, song_folder_name)\n",
        "\n",
        "        if not os.path.isdir(song_folder):\n",
        "            continue\n",
        "\n",
        "        # Read data.json file to get information about the stems\n",
        "        with open(os.path.join(song_folder, 'data.json')) as f:\n",
        "            data = json.load(f)\n",
        "\n",
        "        song_name = data['song']\n",
        "        stems_info = data['stems']\n",
        "\n",
        "        # Create song folder in the destination path\n",
        "        dest_song_folder = os.path.join(songs_path, song_name)\n",
        "        os.makedirs(dest_song_folder, exist_ok=True)\n",
        "\n",
        "        # Copy metadata file into the song folder\n",
        "        shutil.copy(os.path.join(song_folder, 'data.json'), os.path.join(dest_song_folder, 'data.json'))\n",
        "\n",
        "        # Copy stems into respective stem folders\n",
        "        for stem_info in stems_info:\n",
        "            stem_name = stem_info['stemName']\n",
        "            stem_folder = os.path.join(song_folder, stem_name)\n",
        "\n",
        "            # Create stem folder in the destination path\n",
        "            dest_stem_folder = os.path.join(dest_song_folder, stem_name)\n",
        "            os.makedirs(dest_stem_folder, exist_ok=True)\n",
        "\n",
        "            # Copy stem files\n",
        "            for track in stem_info['tracks']:\n",
        "                stem_file = os.path.join(stem_folder, track['id'] + '.wav')\n",
        "                if os.path.exists(stem_file):\n",
        "                    shutil.copy(stem_file, dest_stem_folder)"
      ]
    },
    {
      "cell_type": "code",
      "execution_count": null,
      "metadata": {
        "id": "NcQR6uYGI2WQ"
      },
      "outputs": [],
      "source": [
        "def generate_perms(songs_folder):\n",
        "    songs_folders = os.listdir(songs_folder)\n",
        "\n",
        "    for song_folder_name in songs_folders:\n",
        "        song_folder = os.path.join(songs_folder, song_folder_name)\n",
        "\n",
        "        if not os.path.isdir(song_folder):\n",
        "            continue\n",
        "\n",
        "        # Get list of stem folders\n",
        "        stem_folders = [f for f in os.listdir(song_folder) if os.path.isdir(os.path.join(song_folder, f))]\n",
        "\n",
        "        # Generate permutations of stem files\n",
        "        for r in range(2, len(stem_folders) + 1):\n",
        "            perms = itertools.combinations(stem_folders, r)\n",
        "\n",
        "            for i, perm in enumerate(perms):\n",
        "                perm_folder = os.path.join(song_folder, 'PERM' + str(i))\n",
        "                os.makedirs(perm_folder, exist_ok=True)\n",
        "\n",
        "                # Create Train folder for permutation\n",
        "                train_folder = os.path.join(perm_folder, 'Train')\n",
        "                os.makedirs(train_folder, exist_ok=True)\n",
        "\n",
        "                # Create Test folder for permutation\n",
        "                test_folder = os.path.join(perm_folder, 'Test')\n",
        "                os.makedirs(test_folder, exist_ok=True)\n",
        "\n",
        "                stems_arr = []\n",
        "\n",
        "                # Copy and sum stem files\n",
        "                for stem_name in perm:\n",
        "                    stem_folder = os.path.join(song_folder, stem_name)\n",
        "                    stem_files = os.listdir(stem_folder)\n",
        "                    for stem_file in stem_files:\n",
        "                        stem_path = os.path.join(stem_folder, stem_file)\n",
        "                        stem_audio, _ = librosa.load(stem_path, mono=False, sr=SAMPLE_RATE)\n",
        "                        stems_arr.append(stem_audio)\n",
        "\n",
        "                        # Copy stem files to Test folder\n",
        "                        shutil.copy(stem_path, os.path.join(test_folder, stem_file))\n",
        "\n",
        "                perm_sum = np.sum(stems_arr, axis=0)\n",
        "\n",
        "                # Save permutation audio file to Train folder\n",
        "                sf.write(os.path.join(train_folder, 'PERM' + str(i) + '.wav'), perm_sum.T, SAMPLE_RATE)\n"
      ]
    },
    {
      "cell_type": "code",
      "execution_count": null,
      "metadata": {
        "colab": {
          "base_uri": "https://localhost:8080/",
          "height": 311
        },
        "id": "Ij65-tSdqGLo",
        "outputId": "be7d3217-ef0c-40d5-8862-f6ee7e1386b4"
      },
      "outputs": [
        {
          "output_type": "error",
          "ename": "KeyboardInterrupt",
          "evalue": "",
          "traceback": [
            "\u001b[0;31m---------------------------------------------------------------------------\u001b[0m",
            "\u001b[0;31mKeyboardInterrupt\u001b[0m                         Traceback (most recent call last)",
            "\u001b[0;32m<ipython-input-17-6aa8a8ffa2e0>\u001b[0m in \u001b[0;36m<cell line: 1>\u001b[0;34m()\u001b[0m\n\u001b[0;32m----> 1\u001b[0;31m \u001b[0mparse_file\u001b[0m\u001b[0;34m(\u001b[0m\u001b[0;34m\"/content/drive/MyDrive/Preprocess\"\u001b[0m\u001b[0;34m,\u001b[0m \u001b[0;34m\"/content/drive/MyDrive/lanternfish/moisesDB_raw\"\u001b[0m\u001b[0;34m)\u001b[0m\u001b[0;34m\u001b[0m\u001b[0;34m\u001b[0m\u001b[0m\n\u001b[0m\u001b[1;32m      2\u001b[0m \u001b[0mgenerate_perms\u001b[0m\u001b[0;34m(\u001b[0m\u001b[0;34m\"/content/drive/MyDrive/lanternfish/moisesDB_raw\"\u001b[0m\u001b[0;34m)\u001b[0m\u001b[0;34m\u001b[0m\u001b[0;34m\u001b[0m\u001b[0m\n",
            "\u001b[0;32m<ipython-input-15-c929638870e4>\u001b[0m in \u001b[0;36mparse_file\u001b[0;34m(metadata_path, songs_path)\u001b[0m\n\u001b[1;32m     45\u001b[0m \u001b[0;34m\u001b[0m\u001b[0m\n\u001b[1;32m     46\u001b[0m         \u001b[0;31m# Generate permutations\u001b[0m\u001b[0;34m\u001b[0m\u001b[0;34m\u001b[0m\u001b[0m\n\u001b[0;32m---> 47\u001b[0;31m         \u001b[0mgenerate_perms\u001b[0m\u001b[0;34m(\u001b[0m\u001b[0mdest_song_folder\u001b[0m\u001b[0;34m)\u001b[0m\u001b[0;34m\u001b[0m\u001b[0;34m\u001b[0m\u001b[0m\n\u001b[0m",
            "\u001b[0;32m<ipython-input-16-44b5f696d9e7>\u001b[0m in \u001b[0;36mgenerate_perms\u001b[0;34m(songs_folder)\u001b[0m\n\u001b[1;32m     19\u001b[0m                 \u001b[0;32mfor\u001b[0m \u001b[0mstem_file\u001b[0m \u001b[0;32min\u001b[0m \u001b[0mstem_files\u001b[0m\u001b[0;34m:\u001b[0m\u001b[0;34m\u001b[0m\u001b[0;34m\u001b[0m\u001b[0m\n\u001b[1;32m     20\u001b[0m                     \u001b[0mstem_path\u001b[0m \u001b[0;34m=\u001b[0m \u001b[0mos\u001b[0m\u001b[0;34m.\u001b[0m\u001b[0mpath\u001b[0m\u001b[0;34m.\u001b[0m\u001b[0mjoin\u001b[0m\u001b[0;34m(\u001b[0m\u001b[0mstem_folder\u001b[0m\u001b[0;34m,\u001b[0m \u001b[0mstem_file\u001b[0m\u001b[0;34m)\u001b[0m\u001b[0;34m\u001b[0m\u001b[0;34m\u001b[0m\u001b[0m\n\u001b[0;32m---> 21\u001b[0;31m                     \u001b[0mstem_audio\u001b[0m\u001b[0;34m,\u001b[0m \u001b[0m_\u001b[0m \u001b[0;34m=\u001b[0m \u001b[0mlibrosa\u001b[0m\u001b[0;34m.\u001b[0m\u001b[0mload\u001b[0m\u001b[0;34m(\u001b[0m\u001b[0mstem_path\u001b[0m\u001b[0;34m,\u001b[0m \u001b[0msr\u001b[0m\u001b[0;34m=\u001b[0m\u001b[0mSAMPLE_RATE\u001b[0m\u001b[0;34m)\u001b[0m\u001b[0;34m\u001b[0m\u001b[0;34m\u001b[0m\u001b[0m\n\u001b[0m\u001b[1;32m     22\u001b[0m                     \u001b[0mstems_arr\u001b[0m\u001b[0;34m.\u001b[0m\u001b[0mappend\u001b[0m\u001b[0;34m(\u001b[0m\u001b[0mstem_audio\u001b[0m\u001b[0;34m)\u001b[0m\u001b[0;34m\u001b[0m\u001b[0;34m\u001b[0m\u001b[0m\n\u001b[1;32m     23\u001b[0m \u001b[0;34m\u001b[0m\u001b[0m\n",
            "\u001b[0;32m/usr/local/lib/python3.10/dist-packages/librosa/core/audio.py\u001b[0m in \u001b[0;36mload\u001b[0;34m(path, sr, mono, offset, duration, dtype, res_type)\u001b[0m\n\u001b[1;32m    187\u001b[0m     \u001b[0;31m# Final cleanup for dtype and contiguity\u001b[0m\u001b[0;34m\u001b[0m\u001b[0;34m\u001b[0m\u001b[0m\n\u001b[1;32m    188\u001b[0m     \u001b[0;32mif\u001b[0m \u001b[0mmono\u001b[0m\u001b[0;34m:\u001b[0m\u001b[0;34m\u001b[0m\u001b[0;34m\u001b[0m\u001b[0m\n\u001b[0;32m--> 189\u001b[0;31m         \u001b[0my\u001b[0m \u001b[0;34m=\u001b[0m \u001b[0mto_mono\u001b[0m\u001b[0;34m(\u001b[0m\u001b[0my\u001b[0m\u001b[0;34m)\u001b[0m\u001b[0;34m\u001b[0m\u001b[0;34m\u001b[0m\u001b[0m\n\u001b[0m\u001b[1;32m    190\u001b[0m \u001b[0;34m\u001b[0m\u001b[0m\n\u001b[1;32m    191\u001b[0m     \u001b[0;32mif\u001b[0m \u001b[0msr\u001b[0m \u001b[0;32mis\u001b[0m \u001b[0;32mnot\u001b[0m \u001b[0;32mNone\u001b[0m\u001b[0;34m:\u001b[0m\u001b[0;34m\u001b[0m\u001b[0;34m\u001b[0m\u001b[0m\n",
            "\u001b[0;32m/usr/local/lib/python3.10/dist-packages/librosa/core/audio.py\u001b[0m in \u001b[0;36mto_mono\u001b[0;34m(y)\u001b[0m\n\u001b[1;32m    505\u001b[0m \u001b[0;34m\u001b[0m\u001b[0m\n\u001b[1;32m    506\u001b[0m     \u001b[0;32mif\u001b[0m \u001b[0my\u001b[0m\u001b[0;34m.\u001b[0m\u001b[0mndim\u001b[0m \u001b[0;34m>\u001b[0m \u001b[0;36m1\u001b[0m\u001b[0;34m:\u001b[0m\u001b[0;34m\u001b[0m\u001b[0;34m\u001b[0m\u001b[0m\n\u001b[0;32m--> 507\u001b[0;31m         \u001b[0my\u001b[0m \u001b[0;34m=\u001b[0m \u001b[0mnp\u001b[0m\u001b[0;34m.\u001b[0m\u001b[0mmean\u001b[0m\u001b[0;34m(\u001b[0m\u001b[0my\u001b[0m\u001b[0;34m,\u001b[0m \u001b[0maxis\u001b[0m\u001b[0;34m=\u001b[0m\u001b[0mtuple\u001b[0m\u001b[0;34m(\u001b[0m\u001b[0mrange\u001b[0m\u001b[0;34m(\u001b[0m\u001b[0my\u001b[0m\u001b[0;34m.\u001b[0m\u001b[0mndim\u001b[0m \u001b[0;34m-\u001b[0m \u001b[0;36m1\u001b[0m\u001b[0;34m)\u001b[0m\u001b[0;34m)\u001b[0m\u001b[0;34m)\u001b[0m\u001b[0;34m\u001b[0m\u001b[0;34m\u001b[0m\u001b[0m\n\u001b[0m\u001b[1;32m    508\u001b[0m \u001b[0;34m\u001b[0m\u001b[0m\n\u001b[1;32m    509\u001b[0m     \u001b[0;32mreturn\u001b[0m \u001b[0my\u001b[0m\u001b[0;34m\u001b[0m\u001b[0;34m\u001b[0m\u001b[0m\n",
            "\u001b[0;32m/usr/local/lib/python3.10/dist-packages/numpy/core/fromnumeric.py\u001b[0m in \u001b[0;36mmean\u001b[0;34m(a, axis, dtype, out, keepdims, where)\u001b[0m\n\u001b[1;32m   3502\u001b[0m             \u001b[0;32mreturn\u001b[0m \u001b[0mmean\u001b[0m\u001b[0;34m(\u001b[0m\u001b[0maxis\u001b[0m\u001b[0;34m=\u001b[0m\u001b[0maxis\u001b[0m\u001b[0;34m,\u001b[0m \u001b[0mdtype\u001b[0m\u001b[0;34m=\u001b[0m\u001b[0mdtype\u001b[0m\u001b[0;34m,\u001b[0m \u001b[0mout\u001b[0m\u001b[0;34m=\u001b[0m\u001b[0mout\u001b[0m\u001b[0;34m,\u001b[0m \u001b[0;34m**\u001b[0m\u001b[0mkwargs\u001b[0m\u001b[0;34m)\u001b[0m\u001b[0;34m\u001b[0m\u001b[0;34m\u001b[0m\u001b[0m\n\u001b[1;32m   3503\u001b[0m \u001b[0;34m\u001b[0m\u001b[0m\n\u001b[0;32m-> 3504\u001b[0;31m     return _methods._mean(a, axis=axis, dtype=dtype,\n\u001b[0m\u001b[1;32m   3505\u001b[0m                           out=out, **kwargs)\n\u001b[1;32m   3506\u001b[0m \u001b[0;34m\u001b[0m\u001b[0m\n",
            "\u001b[0;32m/usr/local/lib/python3.10/dist-packages/numpy/core/_methods.py\u001b[0m in \u001b[0;36m_mean\u001b[0;34m(a, axis, dtype, out, keepdims, where)\u001b[0m\n\u001b[1;32m    116\u001b[0m             \u001b[0mis_float16_result\u001b[0m \u001b[0;34m=\u001b[0m \u001b[0;32mTrue\u001b[0m\u001b[0;34m\u001b[0m\u001b[0;34m\u001b[0m\u001b[0m\n\u001b[1;32m    117\u001b[0m \u001b[0;34m\u001b[0m\u001b[0m\n\u001b[0;32m--> 118\u001b[0;31m     \u001b[0mret\u001b[0m \u001b[0;34m=\u001b[0m \u001b[0mumr_sum\u001b[0m\u001b[0;34m(\u001b[0m\u001b[0marr\u001b[0m\u001b[0;34m,\u001b[0m \u001b[0maxis\u001b[0m\u001b[0;34m,\u001b[0m \u001b[0mdtype\u001b[0m\u001b[0;34m,\u001b[0m \u001b[0mout\u001b[0m\u001b[0;34m,\u001b[0m \u001b[0mkeepdims\u001b[0m\u001b[0;34m,\u001b[0m \u001b[0mwhere\u001b[0m\u001b[0;34m=\u001b[0m\u001b[0mwhere\u001b[0m\u001b[0;34m)\u001b[0m\u001b[0;34m\u001b[0m\u001b[0;34m\u001b[0m\u001b[0m\n\u001b[0m\u001b[1;32m    119\u001b[0m     \u001b[0;32mif\u001b[0m \u001b[0misinstance\u001b[0m\u001b[0;34m(\u001b[0m\u001b[0mret\u001b[0m\u001b[0;34m,\u001b[0m \u001b[0mmu\u001b[0m\u001b[0;34m.\u001b[0m\u001b[0mndarray\u001b[0m\u001b[0;34m)\u001b[0m\u001b[0;34m:\u001b[0m\u001b[0;34m\u001b[0m\u001b[0;34m\u001b[0m\u001b[0m\n\u001b[1;32m    120\u001b[0m         \u001b[0;32mwith\u001b[0m \u001b[0m_no_nep50_warning\u001b[0m\u001b[0;34m(\u001b[0m\u001b[0;34m)\u001b[0m\u001b[0;34m:\u001b[0m\u001b[0;34m\u001b[0m\u001b[0;34m\u001b[0m\u001b[0m\n",
            "\u001b[0;31mKeyboardInterrupt\u001b[0m: "
          ]
        }
      ],
      "source": [
        "parse_file(\"/content/drive/MyDrive/Preprocess\", \"/content/drive/MyDrive/lanternfish/moisesDB_raw\")\n",
        "generate_perms(\"/content/drive/MyDrive/lanternfish/moisesDB_raw\")"
      ]
    }
  ],
  "metadata": {
    "colab": {
      "provenance": []
    },
    "kernelspec": {
      "display_name": "Python 3",
      "name": "python3"
    },
    "language_info": {
      "name": "python"
    }
  },
  "nbformat": 4,
  "nbformat_minor": 0
}