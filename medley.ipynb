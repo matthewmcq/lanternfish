{
 "cells": [
  {
   "cell_type": "markdown",
   "metadata": {},
   "source": [
    "## Parsing MedleyDB"
   ]
  },
  {
   "cell_type": "code",
   "execution_count": 2,
   "metadata": {},
   "outputs": [],
   "source": [
    "import librosa\n",
    "import soundfile as sf\n",
    "import os\n",
    "import glob\n",
    "import shutil\n",
    "import icecream as ic\n",
    "import numpy as np\n",
    "import itertools\n",
    "import zipfile\n",
    "import yaml"
   ]
  },
  {
   "cell_type": "markdown",
   "metadata": {},
   "source": [
    "### Copy yaml metadata from metadata folder into songs folder"
   ]
  },
  {
   "cell_type": "code",
   "execution_count": 88,
   "metadata": {},
   "outputs": [],
   "source": [
    "def parse_file(metadata_path, songs_path):\n",
    "    songs_folder = os.listdir(songs_path)\n",
    "\n",
    "    # filters out non yaml files\n",
    "    metadata = glob.glob('*.yaml', root_dir=metadata_path)\n",
    "\n",
    "    for file in metadata:\n",
    "\n",
    "        yaml = file.split('.')[0]\n",
    "\n",
    "        if yaml.endswith(\"_METADATA\") == False:\n",
    "            continue\n",
    "\n",
    "        song_name = yaml[:-9]\n",
    "        # ic.ic(song_name)\n",
    "\n",
    "        song_folder = songs_path + '/' + song_name\n",
    "        assert os.path.isdir(song_folder), \"Song folder does not exist\"\n",
    "\n",
    "        if song_name in songs_folder:\n",
    "            shutil.copy(metadata_path + '/' + file, song_folder + '/' + file)\n",
    "            # ic.ic(os.listdir(songs_path + '/' + song_name))\n",
    "\n"
   ]
  },
  {
   "cell_type": "markdown",
   "metadata": {},
   "source": [
    "### Run\n",
    "first arg: metadata folder (relative to parent directory of notebook; do not add ./)\n",
    "\n",
    "second arg: song folder (same deal)"
   ]
  },
  {
   "cell_type": "code",
   "execution_count": 89,
   "metadata": {},
   "outputs": [],
   "source": [
    "parse_file('metadata', 'songs')"
   ]
  },
  {
   "cell_type": "markdown",
   "metadata": {},
   "source": [
    "### Sort stems into instrument folders"
   ]
  },
  {
   "cell_type": "code",
   "execution_count": 90,
   "metadata": {},
   "outputs": [],
   "source": [
    "def sort_stems(songs_folder):\n",
    "    songs = os.listdir(songs_folder)\n",
    "    songs = [song for song in songs if os.path.isdir(songs_folder + '/' + song)]\n",
    "    ic.ic(songs)\n",
    "\n",
    "    for song in songs:\n",
    "        with open(f\"{songs_folder}/{song}/{song}_METADATA.yaml\") as file:\n",
    "            \n",
    "\n",
    "            metadata = yaml.load(file, Loader=yaml.FullLoader)\n",
    "            # ic.ic(metadata['stems'])\n",
    "\n",
    "            for stem in metadata['stems']:\n",
    "                # instrument = stem['instrument']\n",
    "                instrument = metadata['stems'][stem]['instrument']\n",
    "                # file = stem['filename']\n",
    "                file = metadata['stems'][stem]['filename']\n",
    "\n",
    "                # if(os.path.isdir(songs_folder + '/' + instrument) == False):\n",
    "                if(os.path.isdir(f\"{songs_folder}/{song}/{instrument}\") == False):\n",
    "                    os.mkdir(f\"{songs_folder}/{song}/{instrument}\")\n",
    "\n",
    "                # shutil.copy(songs_folder + '/' +  file, songs_folder + '/' + instrument + '/' + file)\n",
    "                # ic.ic(f\"{songs_folder}/{song}/{song}_STEMS/{file}\")\n",
    "\n",
    "                num_instr_stems = len(os.listdir(f\"{songs_folder}/{song}/{instrument}\"))\n",
    "\n",
    "                os.rename(f\"{songs_folder}/{song}/{song}_STEMS/{file}\", f\"{songs_folder}/{song}/{song}_STEMS/{instrument}_{num_instr_stems}.wav\")\n",
    "                # os.rename(f\"{songs_folder}/{song}/{instrument}/{file}\", f\"{songs_folder}/{song}/{instrument}/{instrument}_{num_instr_stems}.wav\")\n",
    "\n",
    "                # shutil.copy(f\"{songs_folder}/{song}/{song}_STEMS/{file}\", f\"{songs_folder}/{song}/{instrument}/{file}\")\n",
    "                shutil.copy(f\"{songs_folder}/{song}/{song}_STEMS/{instrument}_{num_instr_stems}.wav\", f\"{songs_folder}/{song}/{instrument}/{instrument}_{num_instr_stems}.wav\")\n",
    "\n",
    "                \n",
    "\n",
    "                # os.rename(f\"{songs_folder}/{song}/{instrument}/{file}\", f\"{songs_folder}/{song}/{instrument}/{file}\")\n",
    "                "
   ]
  },
  {
   "cell_type": "code",
   "execution_count": 91,
   "metadata": {},
   "outputs": [
    {
     "name": "stderr",
     "output_type": "stream",
     "text": [
      "ic| songs: ['Allegria_MendelssohnMovement1']\n"
     ]
    }
   ],
   "source": [
    "sort_stems('songs')"
   ]
  },
  {
   "cell_type": "markdown",
   "metadata": {},
   "source": [
    "### generate_perms\n",
    "zips entire song folder at the end with sh.make_archive"
   ]
  },
  {
   "cell_type": "code",
   "execution_count": 4,
   "metadata": {},
   "outputs": [],
   "source": [
    "SAMPLE_RATE = 44100\n",
    "\n",
    "def generate_perms(songs_folder):\n",
    "    songs = os.listdir(songs_folder)\n",
    "\n",
    "    for song in songs:\n",
    "        song_folder = songs_folder + '/' + song\n",
    "        \n",
    "        if os.path.isdir(songs_folder + '/' + song) == False:\n",
    "            continue\n",
    "\n",
    "        stems_folder = song_folder + '/' + song + '_STEMS'\n",
    "\n",
    "        # get all the stems\n",
    "        stems = glob.glob('*.wav', root_dir=stems_folder)\n",
    "        num_stems = len(stems)\n",
    "\n",
    "        # generate all possible permutations of the stems of lengths 2 to num_stems-1\n",
    "        perms = []\n",
    "        for i in range(2, num_stems):\n",
    "            perms += itertools.combinations(stems, i)\n",
    "            \n",
    "        # ic.ic(perms)\n",
    "\n",
    "        # for each permutation, create a new folder and copy the stems into it\n",
    "        for i, perm in enumerate(perms):\n",
    "            # perm_folder = song_folder + '/' + song + '_PERM' + str(i)\n",
    "            # perm_instruments = [stem.split('_')[0] for stem in perm]\n",
    "            perm_instruments = \"_\".join([p.split('.')[0] for p in perm])\n",
    "            perm_folder = song_folder + '/' + song + '_' + perm_instruments\n",
    "            if(os.path.isdir(perm_folder) == False):\n",
    "                os.mkdir(perm_folder)\n",
    "\n",
    "            stems_arr = []\n",
    "\n",
    "            for stem in perm:\n",
    "                shutil.copy(stems_folder + '/' + stem, perm_folder + '/' + stem)\n",
    "\n",
    "                stem_audio, sr = librosa.load(perm_folder + '/' + stem, mono=False, sr=SAMPLE_RATE)\n",
    "                stems_arr.append(stem_audio)\n",
    "                # ic.ic(stem_audio)\n",
    "\n",
    "            perm_sum = np.sum(stems_arr, axis=0)\n",
    "            # sf.write(perm_folder + '/' + song + '_PERM' + str(i) + '.wav', perm_sum.T, SAMPLE_RATE)\n",
    "            # sf.write(perm_folder + '/' + song + '_PERM' + str(i) + '.wav', perm_sum.T, SAMPLE_RATE)\n",
    "            sf.write(perm_folder + '/' + song + '_' + perm_instruments + '.wav', perm_sum.T, SAMPLE_RATE)\n",
    "            \n",
    "        shutil.make_archive(song_folder, format='zip', root_dir=song_folder)"
   ]
  },
  {
   "cell_type": "markdown",
   "metadata": {},
   "source": [
    "### Run\n",
    "arg: songs folder with stems + yaml metadata already in there (relative to parent directory of notebook; do not add ./)"
   ]
  },
  {
   "cell_type": "code",
   "execution_count": 6,
   "metadata": {},
   "outputs": [
    {
     "ename": "KeyboardInterrupt",
     "evalue": "",
     "output_type": "error",
     "traceback": [
      "\u001b[0;31m---------------------------------------------------------------------------\u001b[0m",
      "\u001b[0;31mKeyboardInterrupt\u001b[0m                         Traceback (most recent call last)",
      "Cell \u001b[0;32mIn[6], line 1\u001b[0m\n\u001b[0;32m----> 1\u001b[0m \u001b[43mgenerate_perms\u001b[49m\u001b[43m(\u001b[49m\u001b[38;5;124;43m'\u001b[39;49m\u001b[38;5;124;43msongs\u001b[39;49m\u001b[38;5;124;43m'\u001b[39;49m\u001b[43m)\u001b[49m\n",
      "Cell \u001b[0;32mIn[4], line 48\u001b[0m, in \u001b[0;36mgenerate_perms\u001b[0;34m(songs_folder)\u001b[0m\n\u001b[1;32m     44\u001b[0m     \u001b[38;5;66;03m# sf.write(perm_folder + '/' + song + '_PERM' + str(i) + '.wav', perm_sum.T, SAMPLE_RATE)\u001b[39;00m\n\u001b[1;32m     45\u001b[0m     \u001b[38;5;66;03m# sf.write(perm_folder + '/' + song + '_PERM' + str(i) + '.wav', perm_sum.T, SAMPLE_RATE)\u001b[39;00m\n\u001b[1;32m     46\u001b[0m     sf\u001b[38;5;241m.\u001b[39mwrite(perm_folder \u001b[38;5;241m+\u001b[39m \u001b[38;5;124m'\u001b[39m\u001b[38;5;124m/\u001b[39m\u001b[38;5;124m'\u001b[39m \u001b[38;5;241m+\u001b[39m song \u001b[38;5;241m+\u001b[39m \u001b[38;5;124m'\u001b[39m\u001b[38;5;124m_\u001b[39m\u001b[38;5;124m'\u001b[39m \u001b[38;5;241m+\u001b[39m perm_instruments \u001b[38;5;241m+\u001b[39m \u001b[38;5;124m'\u001b[39m\u001b[38;5;124m.wav\u001b[39m\u001b[38;5;124m'\u001b[39m, perm_sum\u001b[38;5;241m.\u001b[39mT, SAMPLE_RATE)\n\u001b[0;32m---> 48\u001b[0m \u001b[43mshutil\u001b[49m\u001b[38;5;241;43m.\u001b[39;49m\u001b[43mmake_archive\u001b[49m\u001b[43m(\u001b[49m\u001b[43msong_folder\u001b[49m\u001b[43m,\u001b[49m\u001b[43m \u001b[49m\u001b[38;5;28;43mformat\u001b[39;49m\u001b[38;5;241;43m=\u001b[39;49m\u001b[38;5;124;43m'\u001b[39;49m\u001b[38;5;124;43mzip\u001b[39;49m\u001b[38;5;124;43m'\u001b[39;49m\u001b[43m,\u001b[49m\u001b[43m \u001b[49m\u001b[43mroot_dir\u001b[49m\u001b[38;5;241;43m=\u001b[39;49m\u001b[43msong_folder\u001b[49m\u001b[43m)\u001b[49m\n",
      "File \u001b[0;32m/opt/homebrew/Caskroom/miniconda/base/envs/csci1470/lib/python3.10/shutil.py:1124\u001b[0m, in \u001b[0;36mmake_archive\u001b[0;34m(base_name, format, root_dir, base_dir, verbose, dry_run, owner, group, logger)\u001b[0m\n\u001b[1;32m   1121\u001b[0m             os\u001b[38;5;241m.\u001b[39mchdir(root_dir)\n\u001b[1;32m   1123\u001b[0m \u001b[38;5;28;01mtry\u001b[39;00m:\n\u001b[0;32m-> 1124\u001b[0m     filename \u001b[38;5;241m=\u001b[39m \u001b[43mfunc\u001b[49m\u001b[43m(\u001b[49m\u001b[43mbase_name\u001b[49m\u001b[43m,\u001b[49m\u001b[43m \u001b[49m\u001b[43mbase_dir\u001b[49m\u001b[43m,\u001b[49m\u001b[43m \u001b[49m\u001b[38;5;241;43m*\u001b[39;49m\u001b[38;5;241;43m*\u001b[39;49m\u001b[43mkwargs\u001b[49m\u001b[43m)\u001b[49m\n\u001b[1;32m   1125\u001b[0m \u001b[38;5;28;01mfinally\u001b[39;00m:\n\u001b[1;32m   1126\u001b[0m     \u001b[38;5;28;01mif\u001b[39;00m save_cwd \u001b[38;5;129;01mis\u001b[39;00m \u001b[38;5;129;01mnot\u001b[39;00m \u001b[38;5;28;01mNone\u001b[39;00m:\n",
      "File \u001b[0;32m/opt/homebrew/Caskroom/miniconda/base/envs/csci1470/lib/python3.10/shutil.py:1009\u001b[0m, in \u001b[0;36m_make_zipfile\u001b[0;34m(base_name, base_dir, verbose, dry_run, logger, owner, group, root_dir)\u001b[0m\n\u001b[1;32m   1007\u001b[0m \u001b[38;5;28;01mif\u001b[39;00m os\u001b[38;5;241m.\u001b[39mpath\u001b[38;5;241m.\u001b[39misfile(path):\n\u001b[1;32m   1008\u001b[0m     arcname \u001b[38;5;241m=\u001b[39m os\u001b[38;5;241m.\u001b[39mpath\u001b[38;5;241m.\u001b[39mjoin(arcdirpath, name)\n\u001b[0;32m-> 1009\u001b[0m     \u001b[43mzf\u001b[49m\u001b[38;5;241;43m.\u001b[39;49m\u001b[43mwrite\u001b[49m\u001b[43m(\u001b[49m\u001b[43mpath\u001b[49m\u001b[43m,\u001b[49m\u001b[43m \u001b[49m\u001b[43marcname\u001b[49m\u001b[43m)\u001b[49m\n\u001b[1;32m   1010\u001b[0m     \u001b[38;5;28;01mif\u001b[39;00m logger \u001b[38;5;129;01mis\u001b[39;00m \u001b[38;5;129;01mnot\u001b[39;00m \u001b[38;5;28;01mNone\u001b[39;00m:\n\u001b[1;32m   1011\u001b[0m         logger\u001b[38;5;241m.\u001b[39minfo(\u001b[38;5;124m\"\u001b[39m\u001b[38;5;124madding \u001b[39m\u001b[38;5;124m'\u001b[39m\u001b[38;5;132;01m%s\u001b[39;00m\u001b[38;5;124m'\u001b[39m\u001b[38;5;124m\"\u001b[39m, path)\n",
      "File \u001b[0;32m/opt/homebrew/Caskroom/miniconda/base/envs/csci1470/lib/python3.10/zipfile.py:1788\u001b[0m, in \u001b[0;36mZipFile.write\u001b[0;34m(self, filename, arcname, compress_type, compresslevel)\u001b[0m\n\u001b[1;32m   1786\u001b[0m \u001b[38;5;28;01melse\u001b[39;00m:\n\u001b[1;32m   1787\u001b[0m     \u001b[38;5;28;01mwith\u001b[39;00m \u001b[38;5;28mopen\u001b[39m(filename, \u001b[38;5;124m\"\u001b[39m\u001b[38;5;124mrb\u001b[39m\u001b[38;5;124m\"\u001b[39m) \u001b[38;5;28;01mas\u001b[39;00m src, \u001b[38;5;28mself\u001b[39m\u001b[38;5;241m.\u001b[39mopen(zinfo, \u001b[38;5;124m'\u001b[39m\u001b[38;5;124mw\u001b[39m\u001b[38;5;124m'\u001b[39m) \u001b[38;5;28;01mas\u001b[39;00m dest:\n\u001b[0;32m-> 1788\u001b[0m         \u001b[43mshutil\u001b[49m\u001b[38;5;241;43m.\u001b[39;49m\u001b[43mcopyfileobj\u001b[49m\u001b[43m(\u001b[49m\u001b[43msrc\u001b[49m\u001b[43m,\u001b[49m\u001b[43m \u001b[49m\u001b[43mdest\u001b[49m\u001b[43m,\u001b[49m\u001b[43m \u001b[49m\u001b[38;5;241;43m1024\u001b[39;49m\u001b[38;5;241;43m*\u001b[39;49m\u001b[38;5;241;43m8\u001b[39;49m\u001b[43m)\u001b[49m\n",
      "File \u001b[0;32m/opt/homebrew/Caskroom/miniconda/base/envs/csci1470/lib/python3.10/shutil.py:198\u001b[0m, in \u001b[0;36mcopyfileobj\u001b[0;34m(fsrc, fdst, length)\u001b[0m\n\u001b[1;32m    196\u001b[0m \u001b[38;5;28;01mif\u001b[39;00m \u001b[38;5;129;01mnot\u001b[39;00m buf:\n\u001b[1;32m    197\u001b[0m     \u001b[38;5;28;01mbreak\u001b[39;00m\n\u001b[0;32m--> 198\u001b[0m \u001b[43mfdst_write\u001b[49m\u001b[43m(\u001b[49m\u001b[43mbuf\u001b[49m\u001b[43m)\u001b[49m\n",
      "File \u001b[0;32m/opt/homebrew/Caskroom/miniconda/base/envs/csci1470/lib/python3.10/zipfile.py:1141\u001b[0m, in \u001b[0;36m_ZipWriteFile.write\u001b[0;34m(self, data)\u001b[0m\n\u001b[1;32m   1139\u001b[0m \u001b[38;5;28mself\u001b[39m\u001b[38;5;241m.\u001b[39m_crc \u001b[38;5;241m=\u001b[39m crc32(data, \u001b[38;5;28mself\u001b[39m\u001b[38;5;241m.\u001b[39m_crc)\n\u001b[1;32m   1140\u001b[0m \u001b[38;5;28;01mif\u001b[39;00m \u001b[38;5;28mself\u001b[39m\u001b[38;5;241m.\u001b[39m_compressor:\n\u001b[0;32m-> 1141\u001b[0m     data \u001b[38;5;241m=\u001b[39m \u001b[38;5;28;43mself\u001b[39;49m\u001b[38;5;241;43m.\u001b[39;49m\u001b[43m_compressor\u001b[49m\u001b[38;5;241;43m.\u001b[39;49m\u001b[43mcompress\u001b[49m\u001b[43m(\u001b[49m\u001b[43mdata\u001b[49m\u001b[43m)\u001b[49m\n\u001b[1;32m   1142\u001b[0m     \u001b[38;5;28mself\u001b[39m\u001b[38;5;241m.\u001b[39m_compress_size \u001b[38;5;241m+\u001b[39m\u001b[38;5;241m=\u001b[39m \u001b[38;5;28mlen\u001b[39m(data)\n\u001b[1;32m   1143\u001b[0m \u001b[38;5;28mself\u001b[39m\u001b[38;5;241m.\u001b[39m_fileobj\u001b[38;5;241m.\u001b[39mwrite(data)\n",
      "\u001b[0;31mKeyboardInterrupt\u001b[0m: "
     ]
    }
   ],
   "source": [
    "generate_perms('songs')"
   ]
  }
 ],
 "metadata": {
  "kernelspec": {
   "display_name": "csci1470",
   "language": "python",
   "name": "python3"
  },
  "language_info": {
   "codemirror_mode": {
    "name": "ipython",
    "version": 3
   },
   "file_extension": ".py",
   "mimetype": "text/x-python",
   "name": "python",
   "nbconvert_exporter": "python",
   "pygments_lexer": "ipython3",
   "version": "3.10.14"
  }
 },
 "nbformat": 4,
 "nbformat_minor": 2
}
