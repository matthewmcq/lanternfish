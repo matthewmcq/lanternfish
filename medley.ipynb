{
 "cells": [
  {
   "cell_type": "markdown",
   "metadata": {},
   "source": [
    "## Parsing MedleyDB"
   ]
  },
  {
   "cell_type": "code",
   "execution_count": 1,
   "metadata": {},
   "outputs": [],
   "source": [
    "import librosa\n",
    "import soundfile as sf\n",
    "import os\n",
    "import glob\n",
    "import shutil\n",
    "import icecream as ic\n",
    "import numpy as np\n",
    "import itertools\n",
    "import zipfile\n",
    "import yaml"
   ]
  },
  {
   "cell_type": "markdown",
   "metadata": {},
   "source": [
    "### Copy yaml metadata from metadata folder into songs folder"
   ]
  },
  {
   "cell_type": "code",
   "execution_count": 9,
   "metadata": {},
   "outputs": [],
   "source": [
    "def parse_file(metadata_path, songs_path):\n",
    "    songs_folder = os.listdir(songs_path)\n",
    "\n",
    "    # filters out non yaml files\n",
    "    metadata = glob.glob('*.yaml', root_dir=metadata_path)\n",
    "\n",
    "    for file in metadata:\n",
    "\n",
    "        yaml = file.split('.')[0]\n",
    "\n",
    "        if yaml.endswith(\"_METADATA\") == False:\n",
    "            continue\n",
    "\n",
    "        song_name = yaml[:-9]\n",
    "        # ic.ic(song_name)\n",
    "\n",
    "        song_folder = songs_path + '/' + song_name\n",
    "        assert os.path.isdir(song_folder), \"Song folder does not exist\"\n",
    "\n",
    "        if song_name in songs_folder:\n",
    "            shutil.copy(metadata_path + '/' + file, song_folder + '/' + file)\n",
    "            # ic.ic(os.listdir(songs_path + '/' + song_name))\n",
    "\n"
   ]
  },
  {
   "cell_type": "markdown",
   "metadata": {},
   "source": [
    "### Run\n",
    "first arg: metadata folder (relative to parent directory of notebook; do not add ./)\n",
    "\n",
    "second arg: song folder (same deal)"
   ]
  },
  {
   "cell_type": "code",
   "execution_count": 25,
   "metadata": {},
   "outputs": [],
   "source": [
    "parse_file('metadata', 'songs')"
   ]
  },
  {
   "cell_type": "markdown",
   "metadata": {},
   "source": [
    "### Sort stems into instrument folders"
   ]
  },
  {
   "cell_type": "code",
   "execution_count": 62,
   "metadata": {},
   "outputs": [],
   "source": [
    "def sort_stems(songs_folder):\n",
    "    songs = os.listdir(songs_folder)\n",
    "    songs = [song for song in songs if os.path.isdir(songs_folder + '/' + song)]\n",
    "    ic.ic(songs)\n",
    "\n",
    "    for song in songs:\n",
    "        with open(f\"{songs_folder}/{song}/{song}_METADATA.yaml\") as file:\n",
    "            \n",
    "\n",
    "            metadata = yaml.load(file, Loader=yaml.FullLoader)\n",
    "            # ic.ic(metadata['stems'])\n",
    "\n",
    "            for stem in metadata['stems']:\n",
    "                # instrument = stem['instrument']\n",
    "                instrument = metadata['stems'][stem]['instrument']\n",
    "                # file = stem['filename']\n",
    "                file = metadata['stems'][stem]['filename']\n",
    "\n",
    "                # if(os.path.isdir(songs_folder + '/' + instrument) == False):\n",
    "                if(os.path.isdir(f\"{songs_folder}/{song}/{instrument}\") == False):\n",
    "                    os.mkdir(f\"{songs_folder}/{song}/{instrument}\")\n",
    "\n",
    "                # shutil.copy(songs_folder + '/' +  file, songs_folder + '/' + instrument + '/' + file)\n",
    "                # ic.ic(f\"{songs_folder}/{song}/{song}_STEMS/{file}\")\n",
    "                shutil.copy(f\"{songs_folder}/{song}/{song}_STEMS/{file}\", f\"{songs_folder}/{song}/{instrument}/{file}\")\n",
    "                "
   ]
  },
  {
   "cell_type": "code",
   "execution_count": 63,
   "metadata": {},
   "outputs": [
    {
     "name": "stderr",
     "output_type": "stream",
     "text": [
      "ic| songs: ['Allegria_MendelssohnMovement1']\n"
     ]
    }
   ],
   "source": [
    "sort_stems('songs')"
   ]
  },
  {
   "cell_type": "markdown",
   "metadata": {},
   "source": [
    "### generate_perms\n",
    "zips entire song folder at the end with sh.make_archive"
   ]
  },
  {
   "cell_type": "code",
   "execution_count": 1,
   "metadata": {},
   "outputs": [],
   "source": [
    "SAMPLE_RATE = 44100\n",
    "\n",
    "def generate_perms(songs_folder):\n",
    "    songs = os.listdir(songs_folder)\n",
    "\n",
    "    for song in songs:\n",
    "        song_folder = songs_folder + '/' + song\n",
    "        \n",
    "        if os.path.isdir(songs_folder + '/' + song) == False:\n",
    "            continue\n",
    "\n",
    "        stems_folder = song_folder + '/' + song + '_STEMS'\n",
    "\n",
    "        # get all the stems\n",
    "        stems = glob.glob('*.wav', root_dir=stems_folder)\n",
    "        num_stems = len(stems)\n",
    "\n",
    "        # generate all possible permutations of the stems of lengths 2 to num_stems-1\n",
    "        perms = []\n",
    "        for i in range(2, num_stems):\n",
    "            perms += itertools.combinations(stems, i)\n",
    "            \n",
    "        # ic.ic(perms)\n",
    "\n",
    "        # for each permutation, create a new folder and copy the stems into it\n",
    "        for i, perm in enumerate(perms):\n",
    "            perm_folder = song_folder + '/' + song + '_PERM' + str(i)\n",
    "            if(os.path.isdir(perm_folder) == False):\n",
    "                os.mkdir(perm_folder)\n",
    "\n",
    "            stems_arr = []\n",
    "\n",
    "            for stem in perm:\n",
    "                shutil.copy(stems_folder + '/' + stem, perm_folder + '/' + stem)\n",
    "\n",
    "                stem_audio, sr = librosa.load(perm_folder + '/' + stem, mono=False, sr=SAMPLE_RATE)\n",
    "                stems_arr.append(stem_audio)\n",
    "                # ic.ic(stem_audio)\n",
    "\n",
    "            perm_sum = np.sum(stems_arr, axis=0)\n",
    "            # Audio(perm_sum, rate=SAMPLE_RATE)\n",
    "            sf.write(perm_folder + '/' + song + '_PERM' + str(i) + '.wav', perm_sum.T, SAMPLE_RATE)\n",
    "        # ic.ic(os.listdir(song_folder))\n",
    "        # ic.ic(stems_arr)\n",
    "            \n",
    "        shutil.make_archive(song_folder, format='zip', root_dir=song_folder)"
   ]
  },
  {
   "cell_type": "markdown",
   "metadata": {},
   "source": [
    "### Run\n",
    "arg: songs folder with stems + yaml metadata already in there (relative to parent directory of notebook; do not add ./)"
   ]
  },
  {
   "cell_type": "code",
   "execution_count": 5,
   "metadata": {},
   "outputs": [
    {
     "name": "stderr",
     "output_type": "stream",
     "text": [
      "/opt/homebrew/Caskroom/miniconda/base/envs/csci1470/lib/python3.10/zipfile.py:1527: UserWarning: Duplicate name: 'songs/Allegria_MendelssohnMovement1/Allegria_MendelssohnMovement1_PERM0/Allegria_MendelssohnMovement1_STEM_05.wav'\n",
      "  return self._open_to_write(zinfo, force_zip64=force_zip64)\n"
     ]
    }
   ],
   "source": [
    "generate_perms('songs')"
   ]
  }
 ],
 "metadata": {
  "kernelspec": {
   "display_name": "csci1470",
   "language": "python",
   "name": "python3"
  },
  "language_info": {
   "codemirror_mode": {
    "name": "ipython",
    "version": 3
   },
   "file_extension": ".py",
   "mimetype": "text/x-python",
   "name": "python",
   "nbconvert_exporter": "python",
   "pygments_lexer": "ipython3",
   "version": "3.10.14"
  }
 },
 "nbformat": 4,
 "nbformat_minor": 2
}
