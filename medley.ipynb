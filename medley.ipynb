{
 "cells": [
  {
   "cell_type": "markdown",
   "metadata": {},
   "source": [
    "## Parsing MedleyDB"
   ]
  },
  {
   "cell_type": "code",
   "execution_count": 111,
   "metadata": {},
   "outputs": [],
   "source": [
    "import librosa\n",
    "import soundfile as sf\n",
    "import os\n",
    "import glob\n",
    "import shutil\n",
    "import icecream as ic\n",
    "import numpy as np\n",
    "import itertools\n",
    "import zipfile\n",
    "import yaml\n",
    "import re"
   ]
  },
  {
   "cell_type": "markdown",
   "metadata": {},
   "source": [
    "### Copy yaml metadata from metadata folder into songs folder"
   ]
  },
  {
   "cell_type": "code",
   "execution_count": 112,
   "metadata": {},
   "outputs": [],
   "source": [
    "def parse_file(metadata_path, songs_path):\n",
    "    songs_folder = os.listdir(songs_path)\n",
    "\n",
    "    # filters out non yaml files\n",
    "    metadata = glob.glob('*.yaml', root_dir=metadata_path)\n",
    "\n",
    "    for file in metadata:\n",
    "\n",
    "        yaml = file.split('.')[0]\n",
    "\n",
    "        if yaml.endswith(\"_METADATA\") == False:\n",
    "            continue\n",
    "\n",
    "        song_name = yaml[:-9]\n",
    "\n",
    "        song_folder = songs_path + '/' + song_name\n",
    "        assert os.path.isdir(song_folder), \"Song folder does not exist\"\n",
    "\n",
    "        if song_name in songs_folder and not os.path.exists(song_folder + '/' + yaml + '.yaml'):\n",
    "            shutil.copy(metadata_path + '/' + file, song_folder + '/' + file)\n",
    "\n"
   ]
  },
  {
   "cell_type": "markdown",
   "metadata": {},
   "source": [
    "### Run\n",
    "first arg: metadata folder (relative to parent directory of notebook; do not add ./)\n",
    "\n",
    "second arg: song folder (same deal)"
   ]
  },
  {
   "cell_type": "code",
   "execution_count": 116,
   "metadata": {},
   "outputs": [],
   "source": [
    "parse_file('metadata', 'songs')"
   ]
  },
  {
   "cell_type": "markdown",
   "metadata": {},
   "source": [
    "### Sort stems into instrument folders"
   ]
  },
  {
   "cell_type": "code",
   "execution_count": 126,
   "metadata": {},
   "outputs": [],
   "source": [
    "def sort_stems(songs_folder):\n",
    "    songs = os.listdir(songs_folder)\n",
    "    songs = [song for song in songs if os.path.isdir(songs_folder + '/' + song)]\n",
    "\n",
    "    for song in songs:\n",
    "        with open(f\"{songs_folder}/{song}/{song}_METADATA.yaml\") as file:\n",
    "            \n",
    "            metadata = yaml.safe_load(file)\n",
    "\n",
    "        for stem in metadata['stems']:\n",
    "            # if stem.split('_')[-2] != 'STEM':\n",
    "            # if stem.rsplit('_', 1)[1] != 'STEM':\n",
    "            instrument = metadata['stems'][stem]['instrument']\n",
    "            instrument = instrument.replace(\"/\", \"_\")\n",
    "            # ic.ic(instrument)\n",
    "            # metadata['stems'][stem]['instrument'] = metadata['stems'][stem]['instrument'].replace(\"/\", \"_\")\n",
    "            # ic.ic(metadata['stems'][stem]['instrument'])\n",
    "            instrument = instrument.replace(\" \", \"\")\n",
    "            # metadata['stems'][stem]['instrument'].replace(\" \", \"\")\n",
    "            # metadata['stems'][stem]['instrument'] = instrument\n",
    "            file = metadata['stems'][stem]['filename']\n",
    "\n",
    "            if not re.search(r'.*STEM_\\d+\\.wav$', file):\n",
    "                print(f\"Skipping {file}\")\n",
    "                continue\n",
    "\n",
    "            if(os.path.isdir(f\"{songs_folder}/{song}/{instrument}\") == False):\n",
    "                os.mkdir(f\"{songs_folder}/{song}/{instrument}\")\n",
    "\n",
    "            num_instr_stems = len(os.listdir(f\"{songs_folder}/{song}/{instrument}\"))\n",
    "\n",
    "            if os.path.exists(f\"{songs_folder}/{song}/{song}_STEMS/{file}\"):\n",
    "\n",
    "                # Rename stems to their instrument name + number\n",
    "                os.rename(f\"{songs_folder}/{song}/{song}_STEMS/{file}\", f\"{songs_folder}/{song}/{song}_STEMS/{instrument}_{num_instr_stems}.wav\")\n",
    "\n",
    "                # Update metadata with new name\n",
    "                metadata['stems'][stem]['filename'] = f\"{instrument}_{num_instr_stems}.wav\"\n",
    "                # ic.ic(metadata['stems'][stem]['filename'])\n",
    "\n",
    "            # Sort into instrument folders\n",
    "            shutil.copy(f\"{songs_folder}/{song}/{song}_STEMS/{instrument}_{num_instr_stems}.wav\", f\"{songs_folder}/{song}/{instrument}/{instrument}_{num_instr_stems}.wav\")\n",
    "\n",
    "            with open(f\"{songs_folder}/{song}/{song}_METADATA.yaml\", 'w') as file:\n",
    "                # ic.ic(metadata)\n",
    "                yaml.safe_dump(metadata, file)\n",
    "            # yaml.safe_dump(metadata, file)\n",
    "                "
   ]
  },
  {
   "cell_type": "code",
   "execution_count": 127,
   "metadata": {},
   "outputs": [],
   "source": [
    "sort_stems('songs')"
   ]
  },
  {
   "cell_type": "markdown",
   "metadata": {},
   "source": [
    "### generate_perms\n",
    "zips entire song folder at the end with sh.make_archive"
   ]
  },
  {
   "cell_type": "code",
   "execution_count": 136,
   "metadata": {},
   "outputs": [],
   "source": [
    "SAMPLE_RATE = 44100\n",
    "\n",
    "def generate_perms(songs_folder):\n",
    "    songs = os.listdir(songs_folder)\n",
    "\n",
    "    for song in songs:\n",
    "        song_folder = songs_folder + '/' + song\n",
    "        \n",
    "        # if there is no song folder, skip\n",
    "        if os.path.isdir(songs_folder + '/' + song) == False:\n",
    "            continue\n",
    "\n",
    "        # if the song has already been processed and zipped, skip\n",
    "        if os.path.exists(song_folder + '.zip'):\n",
    "            print(f\"Skipping {song_folder}\")\n",
    "            continue\n",
    "\n",
    "        stems_folder = song_folder + '/' + song + '_STEMS'\n",
    "\n",
    "        # get all the stems\n",
    "        stems = glob.glob('*.wav', root_dir=stems_folder)\n",
    "        num_stems = len(stems)\n",
    "\n",
    "        # generate all possible permutations of the stems of lengths num_stems-2 to num_stems, or 2 to num_stems if num_stems <= 3\n",
    "        perms = []\n",
    "        if num_stems > 3:\n",
    "            for i in range(num_stems-2, num_stems):\n",
    "                perms += itertools.combinations(stems, i)\n",
    "        else:\n",
    "            for i in range(2, num_stems):\n",
    "                perms += itertools.combinations(stems, i)\n",
    "            \n",
    "        # ic.ic(perms)\n",
    "\n",
    "        # for each permutation, create a new folder and copy the stems into it\n",
    "        for i, perm in enumerate(perms):\n",
    "            # combine the names of all of the stems in the permutation\n",
    "            perm_instruments = \"_\".join([p.split('.')[0] for p in perm])\n",
    "\n",
    "            # perm_instruments = [p[:len(p)/2].join(p[:-2]) for p in perm_instruments] cut in half (backup plan)\n",
    "\n",
    "            # if perm_instruments is greater than 225 characters, name it after the stems not in the permutation\n",
    "            if len(perm_instruments) > 200 and len(perm) > num_stems - len(perm):\n",
    "                perm_instruments = \"_\".join([p.split('.')[0] for p in stems if p not in perm])\n",
    "                perm_instruments = perm_instruments + \"_EXCL\" # mark it as an exclusive permutation name\n",
    "\n",
    "            perm_folder = song_folder + '/' + song + '_' + perm_instruments\n",
    "            if(os.path.isdir(perm_folder) == False):\n",
    "                os.mkdir(perm_folder)\n",
    "            else:\n",
    "                continue\n",
    "\n",
    "            stems_arr = []\n",
    "\n",
    "            for stem in perm:\n",
    "                shutil.copy(stems_folder + '/' + stem, perm_folder + '/' + stem)\n",
    "\n",
    "                stem_audio, sr = librosa.load(perm_folder + '/' + stem, mono=False, sr=SAMPLE_RATE)\n",
    "                stems_arr.append(stem_audio)\n",
    "                # ic.ic(stem_audio)\n",
    "\n",
    "            perm_sum = np.sum(stems_arr, axis=0)\n",
    "            # sf.write(perm_folder + '/' + song + '_PERM' + str(i) + '.wav', perm_sum.T, SAMPLE_RATE)\n",
    "            # sf.write(perm_folder + '/' + song + '_PERM' + str(i) + '.wav', perm_sum.T, SAMPLE_RATE)\n",
    "            sf.write(perm_folder + '/' + song + '_' + perm_instruments + '.wav', perm_sum.T, SAMPLE_RATE)\n",
    "            \n",
    "        # shutil.make_archive(song_folder, format='zip', root_dir=song_folder)\n",
    "        with zipfile.ZipFile(song_folder + '.zip', 'w', zipfile.ZIP_DEFLATED) as zipf:\n",
    "            for root, _, files in os.walk(f'{song_folder}'):\n",
    "                for file in files:\n",
    "                    # zipf.write(song_folder, os.path.basename(song_folder))\n",
    "                    zipf.write(os.path.join(root, file), os.path.relpath(os.path.join(root, file), f'{song_folder}'))"
   ]
  },
  {
   "cell_type": "markdown",
   "metadata": {},
   "source": [
    "### Run\n",
    "arg: songs folder with stems + yaml metadata already in there (relative to parent directory of notebook; do not add ./)"
   ]
  },
  {
   "cell_type": "code",
   "execution_count": 137,
   "metadata": {},
   "outputs": [
    {
     "name": "stdout",
     "output_type": "stream",
     "text": [
      "Skipping songs/MidnightBlue_StarsAreScreaming\n",
      "Skipping songs/CassandraJenkins_PerfectDay\n",
      "Skipping songs/Verdi_IlTrovatore\n",
      "Skipping songs/FennelCartwright_FlowerDrumSong\n",
      "Skipping songs/Karachacha_Volamos\n",
      "Skipping songs/TheKitchenettes_Alive\n",
      "Skipping songs/Sweat_Tact\n",
      "Skipping songs/Plasma_GoodShout\n",
      "Skipping songs/Allegria_MendelssohnMovement1\n",
      "Skipping songs/SlowGhost_Peanut\n",
      "Skipping songs/LittleTybee_TheAlchemist\n",
      "Skipping songs/Cayetana_MissThing\n"
     ]
    }
   ],
   "source": [
    "generate_perms('songs')"
   ]
  }
 ],
 "metadata": {
  "kernelspec": {
   "display_name": "csci1470",
   "language": "python",
   "name": "python3"
  },
  "language_info": {
   "codemirror_mode": {
    "name": "ipython",
    "version": 3
   },
   "file_extension": ".py",
   "mimetype": "text/x-python",
   "name": "python",
   "nbconvert_exporter": "python",
   "pygments_lexer": "ipython3",
   "version": "3.10.14"
  }
 },
 "nbformat": 4,
 "nbformat_minor": 2
}
